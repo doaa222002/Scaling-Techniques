{
 "cells": [
  {
   "cell_type": "markdown",
   "id": "9a0504ad-8749-4bdb-8942-5065db118dd0",
   "metadata": {},
   "source": [
    "# Import Libraries"
   ]
  },
  {
   "cell_type": "code",
   "execution_count": 1,
   "id": "f781f3f8-4ccf-4d18-b082-5e52f7718584",
   "metadata": {},
   "outputs": [],
   "source": [
    "import numpy as np \n",
    "import pandas as pd \n",
    "import sklearn\n",
    "import seaborn as sns "
   ]
  },
  {
   "cell_type": "markdown",
   "id": "9638b452-a3ed-48ad-a845-c23867a90421",
   "metadata": {},
   "source": [
    "# Reading Dataset "
   ]
  },
  {
   "cell_type": "code",
   "execution_count": 2,
   "id": "e7e5f4a3-8b1a-4a84-b8e6-5ec393cd763e",
   "metadata": {},
   "outputs": [
    {
     "data": {
      "text/html": [
       "<div>\n",
       "<style scoped>\n",
       "    .dataframe tbody tr th:only-of-type {\n",
       "        vertical-align: middle;\n",
       "    }\n",
       "\n",
       "    .dataframe tbody tr th {\n",
       "        vertical-align: top;\n",
       "    }\n",
       "\n",
       "    .dataframe thead th {\n",
       "        text-align: right;\n",
       "    }\n",
       "</style>\n",
       "<table border=\"1\" class=\"dataframe\">\n",
       "  <thead>\n",
       "    <tr style=\"text-align: right;\">\n",
       "      <th></th>\n",
       "      <th>LotArea</th>\n",
       "      <th>MSSubClass</th>\n",
       "    </tr>\n",
       "  </thead>\n",
       "  <tbody>\n",
       "    <tr>\n",
       "      <th>0</th>\n",
       "      <td>8450</td>\n",
       "      <td>60</td>\n",
       "    </tr>\n",
       "    <tr>\n",
       "      <th>1</th>\n",
       "      <td>9600</td>\n",
       "      <td>20</td>\n",
       "    </tr>\n",
       "    <tr>\n",
       "      <th>2</th>\n",
       "      <td>11250</td>\n",
       "      <td>60</td>\n",
       "    </tr>\n",
       "    <tr>\n",
       "      <th>3</th>\n",
       "      <td>9550</td>\n",
       "      <td>70</td>\n",
       "    </tr>\n",
       "    <tr>\n",
       "      <th>4</th>\n",
       "      <td>14260</td>\n",
       "      <td>60</td>\n",
       "    </tr>\n",
       "  </tbody>\n",
       "</table>\n",
       "</div>"
      ],
      "text/plain": [
       "   LotArea  MSSubClass\n",
       "0     8450          60\n",
       "1     9600          20\n",
       "2    11250          60\n",
       "3     9550          70\n",
       "4    14260          60"
      ]
     },
     "execution_count": 2,
     "metadata": {},
     "output_type": "execute_result"
    }
   ],
   "source": [
    "data=pd.read_csv('E:/Dataset/SampleFile.csv')\n",
    "data.head()"
   ]
  },
  {
   "cell_type": "markdown",
   "id": "633f5aae-7de5-4a3d-84fa-389faf4c8687",
   "metadata": {},
   "source": [
    "# Exploration Of Data\n"
   ]
  },
  {
   "cell_type": "code",
   "execution_count": 3,
   "id": "7e594688-f857-44e4-a696-99b5bb66791d",
   "metadata": {},
   "outputs": [
    {
     "name": "stdout",
     "output_type": "stream",
     "text": [
      "<class 'pandas.core.frame.DataFrame'>\n",
      "RangeIndex: 1460 entries, 0 to 1459\n",
      "Data columns (total 2 columns):\n",
      " #   Column      Non-Null Count  Dtype\n",
      "---  ------      --------------  -----\n",
      " 0   LotArea     1460 non-null   int64\n",
      " 1   MSSubClass  1460 non-null   int64\n",
      "dtypes: int64(2)\n",
      "memory usage: 22.9 KB\n"
     ]
    }
   ],
   "source": [
    "data.info()"
   ]
  },
  {
   "cell_type": "code",
   "execution_count": 4,
   "id": "dd5159c7-5c02-4d1f-91bd-0a5f05f69a7a",
   "metadata": {},
   "outputs": [
    {
     "data": {
      "text/html": [
       "<div>\n",
       "<style scoped>\n",
       "    .dataframe tbody tr th:only-of-type {\n",
       "        vertical-align: middle;\n",
       "    }\n",
       "\n",
       "    .dataframe tbody tr th {\n",
       "        vertical-align: top;\n",
       "    }\n",
       "\n",
       "    .dataframe thead th {\n",
       "        text-align: right;\n",
       "    }\n",
       "</style>\n",
       "<table border=\"1\" class=\"dataframe\">\n",
       "  <thead>\n",
       "    <tr style=\"text-align: right;\">\n",
       "      <th></th>\n",
       "      <th>LotArea</th>\n",
       "      <th>MSSubClass</th>\n",
       "    </tr>\n",
       "  </thead>\n",
       "  <tbody>\n",
       "    <tr>\n",
       "      <th>count</th>\n",
       "      <td>1460.000000</td>\n",
       "      <td>1460.000000</td>\n",
       "    </tr>\n",
       "    <tr>\n",
       "      <th>mean</th>\n",
       "      <td>10516.828082</td>\n",
       "      <td>56.897260</td>\n",
       "    </tr>\n",
       "    <tr>\n",
       "      <th>std</th>\n",
       "      <td>9981.264932</td>\n",
       "      <td>42.300571</td>\n",
       "    </tr>\n",
       "    <tr>\n",
       "      <th>min</th>\n",
       "      <td>1300.000000</td>\n",
       "      <td>20.000000</td>\n",
       "    </tr>\n",
       "    <tr>\n",
       "      <th>25%</th>\n",
       "      <td>7553.500000</td>\n",
       "      <td>20.000000</td>\n",
       "    </tr>\n",
       "    <tr>\n",
       "      <th>50%</th>\n",
       "      <td>9478.500000</td>\n",
       "      <td>50.000000</td>\n",
       "    </tr>\n",
       "    <tr>\n",
       "      <th>75%</th>\n",
       "      <td>11601.500000</td>\n",
       "      <td>70.000000</td>\n",
       "    </tr>\n",
       "    <tr>\n",
       "      <th>max</th>\n",
       "      <td>215245.000000</td>\n",
       "      <td>190.000000</td>\n",
       "    </tr>\n",
       "  </tbody>\n",
       "</table>\n",
       "</div>"
      ],
      "text/plain": [
       "             LotArea   MSSubClass\n",
       "count    1460.000000  1460.000000\n",
       "mean    10516.828082    56.897260\n",
       "std      9981.264932    42.300571\n",
       "min      1300.000000    20.000000\n",
       "25%      7553.500000    20.000000\n",
       "50%      9478.500000    50.000000\n",
       "75%     11601.500000    70.000000\n",
       "max    215245.000000   190.000000"
      ]
     },
     "execution_count": 4,
     "metadata": {},
     "output_type": "execute_result"
    }
   ],
   "source": [
    "data.describe()"
   ]
  },
  {
   "cell_type": "code",
   "execution_count": 5,
   "id": "c7f013da-f633-4aa4-9c60-cee28232159b",
   "metadata": {},
   "outputs": [
    {
     "data": {
      "text/plain": [
       "array([ 8450,  9600, 11250, ..., 17217, 13175,  9717], dtype=int64)"
      ]
     },
     "execution_count": 5,
     "metadata": {},
     "output_type": "execute_result"
    }
   ],
   "source": [
    "data['LotArea'].unique()"
   ]
  },
  {
   "cell_type": "code",
   "execution_count": 6,
   "id": "dd8f594a-0106-4d08-adb9-36d0b6886a7b",
   "metadata": {},
   "outputs": [
    {
     "data": {
      "text/plain": [
       "array([ 60,  20,  70,  50, 190,  45,  90, 120,  30,  85,  80, 160,  75,\n",
       "       180,  40], dtype=int64)"
      ]
     },
     "execution_count": 6,
     "metadata": {},
     "output_type": "execute_result"
    }
   ],
   "source": [
    "data['MSSubClass'].unique()"
   ]
  },
  {
   "cell_type": "code",
   "execution_count": 7,
   "id": "fbd24262-082d-49e2-98b8-23f07af51387",
   "metadata": {},
   "outputs": [
    {
     "name": "stderr",
     "output_type": "stream",
     "text": [
      "E:\\anacond222\\Lib\\site-packages\\numpy\\core\\fromnumeric.py:84: FutureWarning: In a future version, DataFrame.max(axis=None) will return a scalar max over the entire DataFrame. To retain the old behavior, use 'frame.max(axis=0)' or just 'frame.max()'\n",
      "  return reduction(axis=axis, out=out, **passkwargs)\n"
     ]
    },
    {
     "data": {
      "text/plain": [
       "LotArea       215245\n",
       "MSSubClass       190\n",
       "dtype: int64"
      ]
     },
     "execution_count": 7,
     "metadata": {},
     "output_type": "execute_result"
    }
   ],
   "source": [
    "max_values=np.max(data)\n",
    "max_values"
   ]
  },
  {
   "cell_type": "code",
   "execution_count": 8,
   "id": "eced24a8-4ee1-4918-9f6b-af0ec53391d6",
   "metadata": {},
   "outputs": [
    {
     "name": "stderr",
     "output_type": "stream",
     "text": [
      "E:\\anacond222\\Lib\\site-packages\\numpy\\core\\fromnumeric.py:84: FutureWarning: In a future version, DataFrame.min(axis=None) will return a scalar min over the entire DataFrame. To retain the old behavior, use 'frame.min(axis=0)' or just 'frame.min()'\n",
      "  return reduction(axis=axis, out=out, **passkwargs)\n"
     ]
    },
    {
     "data": {
      "text/plain": [
       "LotArea       1300\n",
       "MSSubClass      20\n",
       "dtype: int64"
      ]
     },
     "execution_count": 8,
     "metadata": {},
     "output_type": "execute_result"
    }
   ],
   "source": [
    "min_values=np.min(data)\n",
    "min_values"
   ]
  },
  {
   "cell_type": "code",
   "execution_count": 9,
   "id": "548ce6f2-1c9e-45a1-a236-b331105fbe28",
   "metadata": {},
   "outputs": [
    {
     "data": {
      "text/plain": [
       "<seaborn.axisgrid.PairGrid at 0x1a1ad624b90>"
      ]
     },
     "execution_count": 9,
     "metadata": {},
     "output_type": "execute_result"
    },
    {
     "data": {
      "image/png": "[encoded data removed]",
      "text/plain": [
       "<Figure size 500x500 with 6 Axes>"
      ]
     },
     "metadata": {},
     "output_type": "display_data"
    }
   ],
   "source": [
    "# using pairplot function to show the distribution of data \n",
    "sns.pairplot(data)"
   ]
  },
  {
   "cell_type": "markdown",
   "id": "1c5f473c-eb20-41c5-9d55-cd6b63c152e6",
   "metadata": {},
   "source": [
    "# Different Types Of Scaling on this Data "
   ]
  },
  {
   "cell_type": "markdown",
   "id": "e84ec550-2a19-492b-a8df-ef3f32768455",
   "metadata": {},
   "source": [
    "# 1- min max scaler (Normalization)"
   ]
  },
  {
   "cell_type": "code",
   "execution_count": 10,
   "id": "b8ec2b99-5e14-4e31-8056-6b41c2996b66",
   "metadata": {},
   "outputs": [],
   "source": [
    "# import MinMaxScaler\n",
    "from sklearn.preprocessing import MinMaxScaler"
   ]
  },
  {
   "cell_type": "code",
   "execution_count": 11,
   "id": "dd9ffc9a-48e4-4c0d-9998-224951ab1069",
   "metadata": {},
   "outputs": [],
   "source": [
    "# call MinMaxScaler\n",
    "min_max_sacler=MinMaxScaler()\n",
    "# fit transform MinMaxScaler on data\n",
    "data_scaled=min_max_sacler.fit_transform(data)"
   ]
  },
  {
   "cell_type": "code",
   "execution_count": 12,
   "id": "1b6a9adb-15bf-462a-965f-075949fcfc94",
   "metadata": {},
   "outputs": [
    {
     "data": {
      "text/plain": [
       "array([[0.0334198 , 0.23529412],\n",
       "       [0.03879502, 0.        ],\n",
       "       [0.04650728, 0.23529412],\n",
       "       ...,\n",
       "       [0.03618687, 0.29411765],\n",
       "       [0.03934189, 0.        ],\n",
       "       [0.04037019, 0.        ]])"
      ]
     },
     "execution_count": 12,
     "metadata": {},
     "output_type": "execute_result"
    }
   ],
   "source": [
    "data_scaled"
   ]
  },
  {
   "cell_type": "markdown",
   "id": "38a321e4-5525-4b21-b95f-171f3429d128",
   "metadata": {},
   "source": [
    "### 2-standardization (z-score scaling)"
   ]
  },
  {
   "cell_type": "code",
   "execution_count": 13,
   "id": "fc71dc79-b590-4e21-93a1-78bd090c1b79",
   "metadata": {},
   "outputs": [],
   "source": [
    "# Import standard scaler \n",
    "from sklearn.preprocessing import StandardScaler"
   ]
  },
  {
   "cell_type": "code",
   "execution_count": 14,
   "id": "997cc1eb-9d83-418f-8ab2-fe87d485d5ce",
   "metadata": {},
   "outputs": [],
   "source": [
    "#call StandardScaler\n",
    "scaler=StandardScaler()\n",
    "# fit transform StandardScaler on data\n",
    "standard_scaler=scaler.fit_transform(data)"
   ]
  },
  {
   "cell_type": "code",
   "execution_count": 15,
   "id": "cd8dd96d-928c-45b9-9688-eb2abf40aae7",
   "metadata": {},
   "outputs": [
    {
     "data": {
      "text/plain": [
       "array([[-0.20714171,  0.07337496],\n",
       "       [-0.09188637, -0.87256276],\n",
       "       [ 0.07347998,  0.07337496],\n",
       "       ...,\n",
       "       [-0.14781027,  0.30985939],\n",
       "       [-0.08016039, -0.87256276],\n",
       "       [-0.05811155, -0.87256276]])"
      ]
     },
     "execution_count": 15,
     "metadata": {},
     "output_type": "execute_result"
    }
   ],
   "source": [
    "standard_scaler"
   ]
  },
  {
   "cell_type": "code",
   "execution_count": 17,
   "id": "ebc61923-e379-42fd-994f-9f632a538cdd",
   "metadata": {},
   "outputs": [
    {
     "data": {
      "text/plain": [
       "array([[ 8450.,    60.],\n",
       "       [ 9600.,    20.],\n",
       "       [11250.,    60.],\n",
       "       ...,\n",
       "       [ 9042.,    70.],\n",
       "       [ 9717.,    20.],\n",
       "       [ 9937.,    20.]])"
      ]
     },
     "execution_count": 17,
     "metadata": {},
     "output_type": "execute_result"
    }
   ],
   "source": [
    "# if i need to return the real data \n",
    "standard_scaler=scaler.inverse_transform(standard_scaler)\n",
    "standard_scaler"
   ]
  },
  {
   "cell_type": "markdown",
   "id": "243fca06-35a0-4e66-a2aa-aab65169a3df",
   "metadata": {},
   "source": [
    "# 3- max Abs scaling"
   ]
  },
  {
   "cell_type": "code",
   "execution_count": 18,
   "id": "4bc088b8-4a24-4ee4-a47b-967e66fd41c5",
   "metadata": {},
   "outputs": [],
   "source": [
    "# import MaxAbsScaler \n",
    "from sklearn.preprocessing import MaxAbsScaler"
   ]
  },
  {
   "cell_type": "code",
   "execution_count": 19,
   "id": "5e03c3ad-65bb-44d0-828c-c42cac1bd8f8",
   "metadata": {},
   "outputs": [
    {
     "data": {
      "text/plain": [
       "array([[0.03925759, 0.31578947],\n",
       "       [0.04460034, 0.10526316],\n",
       "       [0.05226602, 0.31578947],\n",
       "       ...,\n",
       "       [0.04200794, 0.36842105],\n",
       "       [0.04514391, 0.10526316],\n",
       "       [0.046166  , 0.10526316]])"
      ]
     },
     "execution_count": 19,
     "metadata": {},
     "output_type": "execute_result"
    }
   ],
   "source": [
    "#call of MaxAbsScaler\n",
    "scaler=MaxAbsScaler()\n",
    "# fit transform MaxAbsScaler on data\n",
    "maxAbs_scaler=scaler.fit_transform(data)\n",
    "maxAbs_scaler"
   ]
  },
  {
   "cell_type": "markdown",
   "id": "ee10e02e-1686-4bcc-9d0b-7899dee099a4",
   "metadata": {},
   "source": [
    "# 4- Robust Scaler"
   ]
  },
  {
   "cell_type": "code",
   "execution_count": 20,
   "id": "ea13b197-af27-4c4e-9b00-80a900e141df",
   "metadata": {},
   "outputs": [],
   "source": [
    "# Import RobustScalerabs  \n",
    "from sklearn.preprocessing import RobustScaler "
   ]
  },
  {
   "cell_type": "code",
   "execution_count": 21,
   "id": "ee7d9bc5-11dc-47f7-8bf0-62a02b0b948c",
   "metadata": {},
   "outputs": [
    {
     "data": {
      "text/plain": [
       "array([[-0.25407609,  0.2       ],\n",
       "       [ 0.03001482, -0.6       ],\n",
       "       [ 0.43762352,  0.2       ],\n",
       "       ...,\n",
       "       [-0.10783103,  0.4       ],\n",
       "       [ 0.05891798, -0.6       ],\n",
       "       [ 0.11326581, -0.6       ]])"
      ]
     },
     "execution_count": 21,
     "metadata": {},
     "output_type": "execute_result"
    }
   ],
   "source": [
    "#call RobustScalerabs\n",
    "scaler=RobustScaler()\n",
    "# fit transform RobustScalerabs on data\n",
    "robust_scaler=scaler.fit_transform(data)\n",
    "robust_scaler"
   ]
  },
  {
   "cell_type": "markdown",
   "id": "f7d5d8e0-973d-49b7-bdeb-c4330749e16d",
   "metadata": {},
   "source": [
    "# 5-Power Transformation"
   ]
  },
  {
   "cell_type": "code",
   "execution_count": 22,
   "id": "c82a5775-dfe7-4b26-aed4-bbefb9c4f0dd",
   "metadata": {},
   "outputs": [],
   "source": [
    "#import PowerTransformer \n",
    "from sklearn.preprocessing import PowerTransformer"
   ]
  },
  {
   "cell_type": "code",
   "execution_count": 23,
   "id": "a369ffe6-69e0-43ac-a3d5-118e2c6cdeac",
   "metadata": {},
   "outputs": [
    {
     "data": {
      "text/plain": [
       "array([[-0.14117148,  0.49345981],\n",
       "       [ 0.10560851, -1.16426916],\n",
       "       [ 0.41372099,  0.49345981],\n",
       "       ...,\n",
       "       [-0.0103297 ,  0.69819117],\n",
       "       [ 0.12908808, -1.16426916],\n",
       "       [ 0.1725051 , -1.16426916]])"
      ]
     },
     "execution_count": 23,
     "metadata": {},
     "output_type": "execute_result"
    }
   ],
   "source": [
    "#call Power Transformation\n",
    "scaler=PowerTransformer()\n",
    "# fit transform PowerTransformer on data\n",
    "power_tranform_scaler=scaler.fit_transform(data)\n",
    "power_tranform_scaler"
   ]
  },
  {
   "cell_type": "markdown",
   "id": "2da0e25f-3d73-495e-96d3-256fc3b84e9c",
   "metadata": {},
   "source": [
    "# 6- Mean Normalization"
   ]
  },
  {
   "cell_type": "code",
   "execution_count": 24,
   "id": "1ede9bda-c05a-47f1-83af-2c4334c447ec",
   "metadata": {},
   "outputs": [
    {
     "name": "stderr",
     "output_type": "stream",
     "text": [
      "E:\\anacond222\\Lib\\site-packages\\numpy\\core\\fromnumeric.py:3462: FutureWarning: In a future version, DataFrame.mean(axis=None) will return a scalar mean over the entire DataFrame. To retain the old behavior, use 'frame.mean(axis=0)' or just 'frame.mean()'\n",
      "  return mean(axis=axis, dtype=dtype, out=out, **kwargs)\n"
     ]
    },
    {
     "data": {
      "text/plain": [
       "LotArea       10516.828082\n",
       "MSSubClass       56.897260\n",
       "dtype: float64"
      ]
     },
     "execution_count": 24,
     "metadata": {},
     "output_type": "execute_result"
    }
   ],
   "source": [
    "mean_data=np.mean(data)\n",
    "mean_data"
   ]
  },
  {
   "cell_type": "code",
   "execution_count": 25,
   "id": "f3a67515-5f1f-4bad-87a1-ef7449ffe724",
   "metadata": {},
   "outputs": [
    {
     "data": {
      "text/html": [
       "<div>\n",
       "<style scoped>\n",
       "    .dataframe tbody tr th:only-of-type {\n",
       "        vertical-align: middle;\n",
       "    }\n",
       "\n",
       "    .dataframe tbody tr th {\n",
       "        vertical-align: top;\n",
       "    }\n",
       "\n",
       "    .dataframe thead th {\n",
       "        text-align: right;\n",
       "    }\n",
       "</style>\n",
       "<table border=\"1\" class=\"dataframe\">\n",
       "  <thead>\n",
       "    <tr style=\"text-align: right;\">\n",
       "      <th></th>\n",
       "      <th>LotArea</th>\n",
       "      <th>MSSubClass</th>\n",
       "    </tr>\n",
       "  </thead>\n",
       "  <tbody>\n",
       "    <tr>\n",
       "      <th>0</th>\n",
       "      <td>-2066.828082</td>\n",
       "      <td>3.10274</td>\n",
       "    </tr>\n",
       "    <tr>\n",
       "      <th>1</th>\n",
       "      <td>-916.828082</td>\n",
       "      <td>-36.89726</td>\n",
       "    </tr>\n",
       "    <tr>\n",
       "      <th>2</th>\n",
       "      <td>733.171918</td>\n",
       "      <td>3.10274</td>\n",
       "    </tr>\n",
       "    <tr>\n",
       "      <th>3</th>\n",
       "      <td>-966.828082</td>\n",
       "      <td>13.10274</td>\n",
       "    </tr>\n",
       "    <tr>\n",
       "      <th>4</th>\n",
       "      <td>3743.171918</td>\n",
       "      <td>3.10274</td>\n",
       "    </tr>\n",
       "    <tr>\n",
       "      <th>...</th>\n",
       "      <td>...</td>\n",
       "      <td>...</td>\n",
       "    </tr>\n",
       "    <tr>\n",
       "      <th>1455</th>\n",
       "      <td>-2599.828082</td>\n",
       "      <td>3.10274</td>\n",
       "    </tr>\n",
       "    <tr>\n",
       "      <th>1456</th>\n",
       "      <td>2658.171918</td>\n",
       "      <td>-36.89726</td>\n",
       "    </tr>\n",
       "    <tr>\n",
       "      <th>1457</th>\n",
       "      <td>-1474.828082</td>\n",
       "      <td>13.10274</td>\n",
       "    </tr>\n",
       "    <tr>\n",
       "      <th>1458</th>\n",
       "      <td>-799.828082</td>\n",
       "      <td>-36.89726</td>\n",
       "    </tr>\n",
       "    <tr>\n",
       "      <th>1459</th>\n",
       "      <td>-579.828082</td>\n",
       "      <td>-36.89726</td>\n",
       "    </tr>\n",
       "  </tbody>\n",
       "</table>\n",
       "<p>1460 rows × 2 columns</p>\n",
       "</div>"
      ],
      "text/plain": [
       "          LotArea  MSSubClass\n",
       "0    -2066.828082     3.10274\n",
       "1     -916.828082   -36.89726\n",
       "2      733.171918     3.10274\n",
       "3     -966.828082    13.10274\n",
       "4     3743.171918     3.10274\n",
       "...           ...         ...\n",
       "1455 -2599.828082     3.10274\n",
       "1456  2658.171918   -36.89726\n",
       "1457 -1474.828082    13.10274\n",
       "1458  -799.828082   -36.89726\n",
       "1459  -579.828082   -36.89726\n",
       "\n",
       "[1460 rows x 2 columns]"
      ]
     },
     "execution_count": 25,
     "metadata": {},
     "output_type": "execute_result"
    }
   ],
   "source": [
    "scaled_data=data-mean_data\n",
    "scaled_data"
   ]
  }
 ],
 "metadata": {
  "kernelspec": {
   "display_name": "Python 3 (ipykernel)",
   "language": "python",
   "name": "python3"
  },
  "language_info": {
   "codemirror_mode": {
    "name": "ipython",
    "version": 3
   },
   "file_extension": ".py",
   "mimetype": "text/x-python",
   "name": "python",
   "nbconvert_exporter": "python",
   "pygments_lexer": "ipython3",
   "version": "3.11.3"
  }
 },
 "nbformat": 4,
 "nbformat_minor": 5
}
